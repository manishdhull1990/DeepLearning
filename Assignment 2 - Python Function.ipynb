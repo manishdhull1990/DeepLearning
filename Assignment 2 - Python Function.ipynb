{
 "cells": [
  {
   "cell_type": "markdown",
   "metadata": {},
   "source": [
    "## Problem Statement"
   ]
  },
  {
   "cell_type": "markdown",
   "metadata": {},
   "source": [
    "Q.1 Write a Python Program to implement your own myreduce() function which works exactly like\n",
    "Python's built-in function reduce()\n"
   ]
  },
  {
   "cell_type": "code",
   "execution_count": 1,
   "metadata": {},
   "outputs": [
    {
     "name": "stdout",
     "output_type": "stream",
     "text": [
      "10\n"
     ]
    }
   ],
   "source": [
    "def myreduce(f,l):\n",
    "    it=iter(l)\n",
    "    value = next(it)\n",
    "    for i in it:\n",
    "        value=f(value,i)\n",
    "    return value\n",
    "l=[1,2,3,4]\n",
    "print(myreduce(lambda a,b: a+b,l))"
   ]
  },
  {
   "cell_type": "markdown",
   "metadata": {},
   "source": [
    "Q.2 Write a Python program to implement your own myfilter() function which works exactly like\n",
    "Python's built-in function filter()"
   ]
  },
  {
   "cell_type": "code",
   "execution_count": 2,
   "metadata": {},
   "outputs": [
    {
     "name": "stdout",
     "output_type": "stream",
     "text": [
      "[2, 4, 6, 8]\n"
     ]
    }
   ],
   "source": [
    "def myfilter(lst,f):\n",
    "    l=[]\n",
    "    it=iter(lst)\n",
    "    for i in it:\n",
    "        if f(i)==True:\n",
    "            l.append(i)\n",
    "    return l\n",
    "def even(num):\n",
    "    if num%2==0:\n",
    "        return True\n",
    "lst =[1,2,3,4,5,6,7,8]\n",
    "print(myfilter(lst,even))"
   ]
  },
  {
   "cell_type": "markdown",
   "metadata": {},
   "source": [
    "Q.3 Implement List comprehensions to produce the following lists.\n",
    "   Write List comprehensions to produce the following Lists\n",
    "   \n",
    "    ['A', 'C', 'A', 'D', 'G', 'I', ’L’, ‘ D’]\n",
    "   \n",
    "    ['x', 'xx', 'xxx', 'xxxx', 'y', 'yy', 'yyy', 'yyyy', 'z', 'zz', 'zzz', 'zzzz']\n",
    "\n",
    "    ['x', 'y', 'z', 'xx', 'yy', 'zz', 'xx', 'yy', 'zz', 'xxxx', 'yyyy', 'zzzz']\n",
    "    \n",
    "    [[2], [3], [4], [3], [4], [5], [4], [5], [6]]\n",
    "\n",
    "    [[2, 3, 4, 5], [3, 4, 5, 6], [4, 5, 6, 7], [5, 6, 7, 8]]\n",
    "\n",
    "    [(1, 1), (2, 1), (3, 1), (1, 2), (2, 2), (3, 2), (1, 3), (2, 3), (3, 3)]"
   ]
  },
  {
   "cell_type": "code",
   "execution_count": 5,
   "metadata": {},
   "outputs": [
    {
     "name": "stdout",
     "output_type": "stream",
     "text": [
      "['A', 'C', 'A', 'D', 'G', 'I', 'L', 'D']\n",
      "['x', 'xx', 'xxx', 'xxxx', 'y', 'yy', 'yyy', 'yyyy', 'z', 'zz', 'zzz', 'zzzz']\n",
      "['x', 'y', 'z', 'xx', 'yy', 'zz', 'xxx', 'yyy', 'zzz', 'xxxx', 'yyyy', 'zzzz']\n",
      "[[2], [3], [4], [3], [4], [5], [4], [5], [6]]\n",
      "[[2, 3, 4, 5], [3, 4, 5, 6], [4, 5, 6, 7], [5, 6, 7, 8]]\n",
      "[(1, 1), (2, 1), (3, 1), (1, 2), (2, 2), (3, 2), (1, 3), (2, 3), (3, 3)]\n"
     ]
    }
   ],
   "source": [
    "s='ACADGILD'\n",
    "print([i for i in s])\n",
    "\n",
    "\n",
    "s='xyz'\n",
    "print([x*i for x in s for i in range(1,len(s)+2)])\n",
    "\n",
    "\n",
    "s='xyz'\n",
    "print([x*i for i in range(1,len(s)+2) for x in s])\n",
    "\n",
    "print([[x+i+2] for x in range(3) for i in range(3)])\n",
    "\n",
    "print([[x+i+2 for x in range(4)] for i in range(4)])\n",
    "\n",
    "\n",
    "print([(i+1,x+1) for x in range(3) for i in range(3)])"
   ]
  },
  {
   "cell_type": "markdown",
   "metadata": {},
   "source": [
    "Q.4 Implement a function longestWord() that takes a list of words and returns the longest one."
   ]
  },
  {
   "cell_type": "code",
   "execution_count": 6,
   "metadata": {},
   "outputs": [
    {
     "name": "stdout",
     "output_type": "stream",
     "text": [
      "['manish', 'ashish']\n"
     ]
    }
   ],
   "source": [
    "def longestWord(l):\n",
    "    d={}\n",
    "    for i in l:\n",
    "        d[i]=len(i)\n",
    "    longestWord=[k for k,v in d.items() if v == max(d.values())]\n",
    "    return longestWord\n",
    "l=['manish','dhull','ashish']\n",
    "print(longestWord(l))"
   ]
  },
  {
   "cell_type": "markdown",
   "metadata": {},
   "source": [
    "Q.5 Write a Python Program(with class concepts) to find the area of the triangle using the below\n",
    "formula.\n",
    "\n",
    "area = (s*(s-a)*(s-b)*(s-c)) ** 0.5\n",
    "\n",
    "Function to take the length of the sides of triangle from user should be defined in the parent\n",
    "class and function to calculate the area should be defined in subclass."
   ]
  },
  {
   "cell_type": "code",
   "execution_count": 8,
   "metadata": {},
   "outputs": [
    {
     "name": "stdout",
     "output_type": "stream",
     "text": [
      "Enter sides of triangle:3,8,4\n",
      "4.21875\n"
     ]
    }
   ],
   "source": [
    "class triangle:\n",
    "    def __init__(self,a,b,c):\n",
    "        self.a=a\n",
    "        self.b=b\n",
    "        self.c=c\n",
    "    def semiperimiter(self):\n",
    "        s=(self.a+self.b+self.c)*0.5\n",
    "        return s\n",
    "class area(triangle):\n",
    "    def __init__(self,*args):\n",
    "        super(area,self).__init__(*args)\n",
    "    def area_triangle(self,s):\n",
    "        return (s*(s-self.a)*(s-self.b)*(s-self.b))*0.5\n",
    "a,b,c=input(\"Enter sides of triangle:\").split(\",\")\n",
    "a=area(int(a),int(b),int(c))\n",
    "print(a.area_triangle(a.semiperimiter()))"
   ]
  },
  {
   "cell_type": "markdown",
   "metadata": {},
   "source": [
    "Q.6 Write a function filter_long_words() that takes a list of words and an integer n and returns the list\n",
    "of words that are longer than n."
   ]
  },
  {
   "cell_type": "code",
   "execution_count": 9,
   "metadata": {},
   "outputs": [
    {
     "name": "stdout",
     "output_type": "stream",
     "text": [
      "Enter words:oops is great to maintain code\n",
      "Enter number3\n",
      "['oops', 'great', 'maintain', 'code']\n"
     ]
    }
   ],
   "source": [
    "class words:\n",
    "    def __init__(self,lst,n):\n",
    "        self.lst=lst\n",
    "        self.n=n\n",
    "    def filter_long_words(self):\n",
    "        l=[]\n",
    "        for word in self.lst:\n",
    "            if len(word)>n:\n",
    "                l.append(word)\n",
    "        return l\n",
    "lst=list(input(\"Enter words:\").split())\n",
    "n=int(input(\"Enter number\"))\n",
    "\n",
    "a=words(lst,n)\n",
    "print(a.filter_long_words())"
   ]
  },
  {
   "cell_type": "markdown",
   "metadata": {},
   "source": [
    "Q.7 Write a Python program using function concept that maps list of words into a list of integers\n",
    "representing the lengths of the corresponding words.\n",
    "    \n",
    "    Hint: If a list [ ab,cde,erty] is passed on to the python function output should come as [2,3,4]\n",
    "    Here 2,3 and 4 are the lengths of the words in the list."
   ]
  },
  {
   "cell_type": "code",
   "execution_count": 10,
   "metadata": {},
   "outputs": [
    {
     "name": "stdout",
     "output_type": "stream",
     "text": [
      "Enter words:ab cde erty\n",
      "[2, 3, 4]\n"
     ]
    }
   ],
   "source": [
    "class listOfWords:\n",
    "    def __init__(self,lst):\n",
    "        self.lst=lst\n",
    "    def length(self):\n",
    "        return [len(l) for l in lst]\n",
    "lst=list(input(\"Enter words:\").split())\n",
    "wordLength=listOfWords(lst)\n",
    "print(wordLength.length())"
   ]
  },
  {
   "cell_type": "markdown",
   "metadata": {},
   "source": [
    "Q.8 Write a Python function which takes a character (i.e. a string of length 1) and returns True if it is\n",
    "a vowel, False otherwise."
   ]
  },
  {
   "cell_type": "code",
   "execution_count": 11,
   "metadata": {},
   "outputs": [
    {
     "name": "stdout",
     "output_type": "stream",
     "text": [
      "Enter character: i\n",
      "True\n"
     ]
    }
   ],
   "source": [
    "class vowelCheck:\n",
    "    def __init__(self,character):\n",
    "        self.character=character\n",
    "    def isVowel(self):\n",
    "          if character in ['a','e','i','o','u']:\n",
    "                return True\n",
    "character=input(\"Enter character: \")\n",
    "vowel=vowelCheck(character)\n",
    "print(vowel.isVowel())"
   ]
  },
  {
   "cell_type": "markdown",
   "metadata": {},
   "source": [
    "## Great job!"
   ]
  }
 ],
 "metadata": {
  "kernelspec": {
   "display_name": "Python 3",
   "language": "python",
   "name": "python3"
  },
  "language_info": {
   "codemirror_mode": {
    "name": "ipython",
    "version": 3
   },
   "file_extension": ".py",
   "mimetype": "text/x-python",
   "name": "python",
   "nbconvert_exporter": "python",
   "pygments_lexer": "ipython3",
   "version": "3.7.3"
  }
 },
 "nbformat": 4,
 "nbformat_minor": 2
}
