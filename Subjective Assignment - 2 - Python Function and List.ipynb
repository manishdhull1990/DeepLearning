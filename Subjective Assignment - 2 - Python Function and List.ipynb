{
 "cells": [
  {
   "cell_type": "markdown",
   "metadata": {},
   "source": [
    "# Assignments"
   ]
  },
  {
   "cell_type": "markdown",
   "metadata": {},
   "source": [
    "Q1. Write the Python function to get a string made of 4 copies of the last\n",
    "two characters of the specified string (length must be at least 2).\n",
    "\n",
    "    Sample function and result :\n",
    "    insert-end ('Python') -> abababab\n",
    "    insert-end('Exercises') -> jkjkjkjk"
   ]
  },
  {
   "cell_type": "code",
   "execution_count": 1,
   "metadata": {},
   "outputs": [
    {
     "name": "stdout",
     "output_type": "stream",
     "text": [
      "Enter string: Python\n",
      "onononon\n"
     ]
    }
   ],
   "source": [
    "class strings:\n",
    "    def __init__(self,string):\n",
    "        self.string=string\n",
    "    def insertEnd(self):\n",
    "        if len(self.string)>2:\n",
    "            return self.string[-2::]*4\n",
    "\n",
    "string=input('Enter string: ')\n",
    "s=strings(string)\n",
    "print(s.insertEnd())"
   ]
  },
  {
   "cell_type": "markdown",
   "metadata": {},
   "source": [
    "Q2. Write the python function to get a string made of its first three\n",
    "characters of a specified string. If the length of the string is less than 3\n",
    "then return the original string.\n",
    "    \n",
    "    Sample function and result :\n",
    "    first-three('ipy') -> ipy\n",
    "    first-three('python') -> pyt"
   ]
  },
  {
   "cell_type": "code",
   "execution_count": 4,
   "metadata": {},
   "outputs": [
    {
     "name": "stdout",
     "output_type": "stream",
     "text": [
      "Enter string: python\n",
      "pyt\n"
     ]
    }
   ],
   "source": [
    "class strings:\n",
    "    def __init__(self,string):\n",
    "        self.string=string\n",
    "    def firstThree(self):\n",
    "        if len(self.string)>2:\n",
    "            return self.string[:3:]\n",
    "        else: \n",
    "            return self.string\n",
    "\n",
    "string=input('Enter string: ')\n",
    "s=strings(string)\n",
    "print(s.firstThree())"
   ]
  },
  {
   "cell_type": "markdown",
   "metadata": {},
   "source": [
    "Q3. Write the Python program to find smallest window that contains all\n",
    "characters of the given string?\n",
    "\n",
    "    Original Strings:\n",
    "    asdaewsqgtwwsa\n",
    "    Smallest window that contains all characters of the said string:\n",
    "    Daewsqgt"
   ]
  },
  {
   "cell_type": "code",
   "execution_count": 5,
   "metadata": {},
   "outputs": [
    {
     "name": "stdout",
     "output_type": "stream",
     "text": [
      "Smallest window that contains all characters of the said string: \"daewsqgt\"\n"
     ]
    }
   ],
   "source": [
    "import collections\n",
    "\n",
    "class window:\n",
    "    def __init__(self,str1):\n",
    "        self.str1=str1\n",
    "        \n",
    "    def minWindow(self):\n",
    "    ##creating 2nd string which comprises of unique characters   \n",
    "        stringList=[]\n",
    "        [stringList.append(i) for i in self.str1 if i not in stringList]\n",
    "        str2=\"\".join(stringList)\n",
    "        \n",
    "    ##calculating the occurence of the characters in 2nd String\n",
    "        characterCount,totalCharacterLength=collections.Counter(str2),len(str2)\n",
    "    ##Initializing the starting point of the window\n",
    "        leftInitialValue=leftValue=rightValue=0\n",
    "    \n",
    "    ##Traversing window until all the character in the 2nd string are found in 1st string\n",
    "        for rightInitialValue,character in enumerate(self.str1):\n",
    "            if characterCount[character]>0:\n",
    "                totalCharacterLength-=characterCount[character]\n",
    "            characterCount[character]-=1\n",
    "    \n",
    "    ##After window is found moving the left of the window towards right side until next window is found\n",
    "            if not totalCharacterLength:\n",
    "                while leftInitialValue<rightValue and characterCount[self.str1[leftInitialValue]]<0:\n",
    "                        characterCount[self.str1[leftInitialValue]]+=1\n",
    "                        leftInitialValue +=1\n",
    "    ##swaping values after lesser window size is found\n",
    "                if not rightValue or rightInitialValue-leftInitialValue <= rightValue - leftValue:\n",
    "                    leftValue,rightValue=leftInitialValue,rightInitialValue\n",
    "        return self.str1[leftValue:rightValue]\n",
    "            \n",
    "str1='asdaewsqgtwwsa'\n",
    "w=window(str1)\n",
    "print('Smallest window that contains all characters of the said string: \"{}\"'.format(w.minWindow()))"
   ]
  },
  {
   "cell_type": "markdown",
   "metadata": {},
   "source": [
    "Q4. Write the Python program to count number of substrings from a\n",
    "given string of lowercase alphabets with exactly k distinct (given)\n",
    "characters?\n",
    "\n",
    "    Input a string (lowercase alphabets): wolf\n",
    "    Input k: 4\n",
    "    Number of substrings with exactly 4 distinct characters: 1"
   ]
  },
  {
   "cell_type": "code",
   "execution_count": 7,
   "metadata": {},
   "outputs": [
    {
     "name": "stdout",
     "output_type": "stream",
     "text": [
      "Number of substrings with exactly 4 distinct characters:1\n"
     ]
    }
   ],
   "source": [
    "class distinctCharacters:\n",
    "    def __init__(self,str1,k):\n",
    "        self.str1=str1\n",
    "        self.k=k\n",
    "    def countCharacters(self):\n",
    "        stringCount=0\n",
    "        for i in range(len(str1)):\n",
    "            distCount=0\n",
    "            alphabetCount=[0]*27\n",
    "            for j in range(i,len(str1)):\n",
    "                if alphabetCount[ord(str1[j])-97]==0:\n",
    "                    distCount+=1\n",
    "                alphabetCount[ord(str1[j])-97]+=1\n",
    "                if distCount==k:\n",
    "                    stringCount+=1\n",
    "                if distCount>k:\n",
    "                    break\n",
    "        return stringCount\n",
    "str1 = \"wolf\"\n",
    "k = 1\n",
    "c=distinctCharacters(str1,k)\n",
    "print(\"Number of substrings with exactly {} distinct characters:{}\".format(c.countCharacters(),k))"
   ]
  },
  {
   "cell_type": "markdown",
   "metadata": {},
   "source": [
    "Q5. Write the Python program to count number of non-empty\n",
    "substrings of the given string?\n",
    "\n",
    "    Input a string: w3resource\n",
    "    Number of substrings:\n",
    "    55"
   ]
  },
  {
   "cell_type": "code",
   "execution_count": 8,
   "metadata": {},
   "outputs": [
    {
     "name": "stdout",
     "output_type": "stream",
     "text": [
      "Number of substrings: 55\n"
     ]
    }
   ],
   "source": [
    "def countSubStrings(str1):\n",
    "    n =len(str1)\n",
    "    return (n*(n+1)/2)\n",
    "    print(l)\n",
    "str1=\"w3resource\"\n",
    "print(\"Number of substrings:\",int(countSubStrings(str1)))"
   ]
  },
  {
   "cell_type": "markdown",
   "metadata": {},
   "source": [
    "Q6. Write the Python program to count the number of strings where the\n",
    "string length is 2 or more, and first and last character are same\n",
    "from a given list of strings.\n",
    "\n",
    "    Sample List : ['abc', 'xyz', 'wxw', '1331']\n",
    "    Expected Result: 2"
   ]
  },
  {
   "cell_type": "code",
   "execution_count": 9,
   "metadata": {},
   "outputs": [
    {
     "data": {
      "text/plain": [
       "2"
      ]
     },
     "execution_count": 9,
     "metadata": {},
     "output_type": "execute_result"
    }
   ],
   "source": [
    "def listPalindrome(l):\n",
    "    lst1=[]\n",
    "    for i in l:\n",
    "        if len(i)>2:\n",
    "            for j in range(len(i)):\n",
    "                if i[0]==i[-1]:\n",
    "                    lst1.append(i)\n",
    "                    break\n",
    "    return len(lst1)\n",
    "        \n",
    "l=['abc', 'xyz', 'wxw', '1331']\n",
    "listPalindrome(l)"
   ]
  },
  {
   "cell_type": "markdown",
   "metadata": {},
   "source": [
    "Q7. Write the Python program to get a list, sorted in increasing order by\n",
    "the last element in each tuple from the given list of non-empty\n",
    "tuples?\n",
    "\n",
    "    Sample List - [ (2, 5), (1, 2), (4, 4), (2, 3), (2, 1) ]\n",
    "    Expected Result - [ (2, 1), (1, 2), (2, 3), (4, 4), (2, 5) ]"
   ]
  },
  {
   "cell_type": "code",
   "execution_count": 10,
   "metadata": {},
   "outputs": [
    {
     "name": "stdout",
     "output_type": "stream",
     "text": [
      "[(2, 1), (1, 2), (2, 3), (4, 4), (2, 5)]\n"
     ]
    }
   ],
   "source": [
    "l=[ (2, 5), (1, 2), (4, 4), (2, 3), (2, 1) ]\n",
    "print(sorted(l,key=lambda l:l[1]))"
   ]
  },
  {
   "cell_type": "markdown",
   "metadata": {},
   "source": [
    "Q8. Write the Python program to remove duplicates from a list?"
   ]
  },
  {
   "cell_type": "code",
   "execution_count": 11,
   "metadata": {},
   "outputs": [
    {
     "name": "stdout",
     "output_type": "stream",
     "text": [
      "Enter values1 2 3 4 5 4 3 2\n",
      "['1', '2', '3', '4', '5']\n"
     ]
    }
   ],
   "source": [
    "l=list(input(\"Enter values\").split())\n",
    "l1=[]\n",
    "[l1.append(i) for i in l if i not in l1]\n",
    "print(l1)"
   ]
  },
  {
   "cell_type": "markdown",
   "metadata": {},
   "source": [
    "Q9. Write the Python program to find the list of words that are longer\n",
    "than n from a given list of words?"
   ]
  },
  {
   "cell_type": "code",
   "execution_count": 12,
   "metadata": {},
   "outputs": [
    {
     "name": "stdout",
     "output_type": "stream",
     "text": [
      "Enter words: check for the words which are greater than the number\n",
      "Enter the length: 4\n",
      "['check', 'words', 'which', 'greater', 'number']\n"
     ]
    }
   ],
   "source": [
    "l=list(input(\"Enter words: \").split())\n",
    "n=int(input(\"Enter the length: \"))\n",
    "\n",
    "print([i for i in l if len(i)>n])"
   ]
  },
  {
   "cell_type": "markdown",
   "metadata": {},
   "source": [
    "Q10. Write the Python program to print a specified list after removing the\n",
    "0th, 4th, and 5th elements?\n",
    "    \n",
    "    Sample List - ['Red', 'Green', 'White', 'Black', 'Pink', 'Yellow']\n",
    "    Expected Output - ['Green', 'White', 'Black']"
   ]
  },
  {
   "cell_type": "code",
   "execution_count": 13,
   "metadata": {},
   "outputs": [
    {
     "name": "stdout",
     "output_type": "stream",
     "text": [
      "['Green', 'White', 'Black']\n"
     ]
    }
   ],
   "source": [
    "l=['Red', 'Green', 'White', 'Black', 'Pink', 'Yellow']\n",
    "l1=[]\n",
    "[l1.append(l[i]) for i in range(len(l)) if i not in (0,4,5)]\n",
    "print(l1)"
   ]
  },
  {
   "cell_type": "markdown",
   "metadata": {},
   "source": [
    "Q11. Write the Python program to generate all permutations of a list in\n",
    "Python?"
   ]
  },
  {
   "cell_type": "code",
   "execution_count": 14,
   "metadata": {},
   "outputs": [
    {
     "name": "stdout",
     "output_type": "stream",
     "text": [
      "[(1, 2, 3), (1, 3, 2), (2, 1, 3), (2, 3, 1), (3, 1, 2), (3, 2, 1)]\n"
     ]
    }
   ],
   "source": [
    "import itertools\n",
    "l=[1,2,3]\n",
    "print(list(itertools.permutations(l)))"
   ]
  },
  {
   "cell_type": "markdown",
   "metadata": {},
   "source": [
    "Q12. Write the Python program to convert a pair of values into a sorted\n",
    "unique array?\n",
    " \n",
    "    Original List- [ (1, 2), (3, 4), (1, 2), (5, 6), (7, 8), (1, 2), (3, 4), (3, 4), (7, 8), (9, 10) ]\n",
    "    Sorted Unique Data- [ 1, 2, 3, 4, 5, 6, 7, 8, 9, 10 ] \n"
   ]
  },
  {
   "cell_type": "code",
   "execution_count": null,
   "metadata": {},
   "outputs": [],
   "source": [
    "l=[ (1, 2), (3, 4), (1, 2), (5, 6), (7, 8), (1, 2), (3, 4), (3, 4), (7, 8), (9, 10) ]\n",
    "list(set().union(*l))"
   ]
  },
  {
   "cell_type": "markdown",
   "metadata": {},
   "source": [
    "## Great job!"
   ]
  }
 ],
 "metadata": {
  "kernelspec": {
   "display_name": "Python 3",
   "language": "python",
   "name": "python3"
  },
  "language_info": {
   "codemirror_mode": {
    "name": "ipython",
    "version": 3
   },
   "file_extension": ".py",
   "mimetype": "text/x-python",
   "name": "python",
   "nbconvert_exporter": "python",
   "pygments_lexer": "ipython3",
   "version": "3.7.3"
  }
 },
 "nbformat": 4,
 "nbformat_minor": 2
}
